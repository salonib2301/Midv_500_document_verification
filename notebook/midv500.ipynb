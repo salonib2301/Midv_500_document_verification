{
 "cells": [
  {
   "cell_type": "code",
   "execution_count": null,
   "metadata": {},
   "outputs": [],
   "source": [
    "import os\n",
    "import argparse\n",
    "from utils.utils import download, unzip"
   ]
  },
  {
   "cell_type": "code",
   "execution_count": null,
   "metadata": {},
   "outputs": [],
   "source": [
    "midv500_links = [\n",
    "    \"ftp://smartengines.com/midv-500/dataset/01_alb_id.zip\",\n",
    "    \"ftp://smartengines.com/midv-500/dataset/02_aut_drvlic_new.zip\",\n",
    "    \"ftp://smartengines.com/midv-500/dataset/03_aut_id_old.zip\",\n",
    "    \"ftp://smartengines.com/midv-500/dataset/04_aut_id.zip\",\n",
    "    \"ftp://smartengines.com/midv-500/dataset/05_aze_passport.zip\",\n",
    "    \"ftp://smartengines.com/midv-500/dataset/06_bra_passport.zip\",\n",
    "    \"ftp://smartengines.com/midv-500/dataset/07_chl_id.zip\",\n",
    "    \"ftp://smartengines.com/midv-500/dataset/08_chn_homereturn.zip\",\n",
    "    \"ftp://smartengines.com/midv-500/dataset/09_chn_id.zip\",\n",
    "    \"ftp://smartengines.com/midv-500/dataset/10_cze_id.zip\",\n",
    "    \"ftp://smartengines.com/midv-500/dataset/11_cze_passport.zip\",\n",
    "    \"ftp://smartengines.com/midv-500/dataset/12_deu_drvlic_new.zip\",\n",
    "    \"ftp://smartengines.com/midv-500/dataset/13_deu_drvlic_old.zip\",\n",
    "    \"ftp://smartengines.com/midv-500/dataset/14_deu_id_new.zip\",\n",
    "    \"ftp://smartengines.com/midv-500/dataset/15_deu_id_old.zip\",\n",
    "    \"ftp://smartengines.com/midv-500/dataset/16_deu_passport_new.zip\",\n",
    "    \"ftp://smartengines.com/midv-500/dataset/17_deu_passport_old.zip\",\n",
    "    \"ftp://smartengines.com/midv-500/dataset/18_dza_passport.zip\",\n",
    "    \"ftp://smartengines.com/midv-500/dataset/19_esp_drvlic.zip\",\n",
    "    \"ftp://smartengines.com/midv-500/dataset/20_esp_id_new.zip\",\n",
    "    \"ftp://smartengines.com/midv-500/dataset/21_esp_id_old.zip\",\n",
    "    \"ftp://smartengines.com/midv-500/dataset/22_est_id.zip\",\n",
    "    \"ftp://smartengines.com/midv-500/dataset/23_fin_drvlic.zip\",\n",
    "    \"ftp://smartengines.com/midv-500/dataset/24_fin_id.zip\",\n",
    "    \"ftp://smartengines.com/midv-500/dataset/25_grc_passport.zip\",\n",
    "    \"ftp://smartengines.com/midv-500/dataset/26_hrv_drvlic.zip\",\n",
    "    \"ftp://smartengines.com/midv-500/dataset/27_hrv_passport.zip\",\n",
    "    \"ftp://smartengines.com/midv-500/dataset/28_hun_passport.zip\",\n",
    "    \"ftp://smartengines.com/midv-500/dataset/29_irn_drvlic.zip\",\n",
    "    \"ftp://smartengines.com/midv-500/dataset/30_ita_drvlic.zip\",\n",
    "    \"ftp://smartengines.com/midv-500/dataset/31_jpn_drvlic.zip\",\n",
    "    \"ftp://smartengines.com/midv-500/dataset/32_lva_passport.zip\",\n",
    "    \"ftp://smartengines.com/midv-500/dataset/33_mac_id.zip\",\n",
    "    \"ftp://smartengines.com/midv-500/dataset/34_mda_passport.zip\",\n",
    "    \"ftp://smartengines.com/midv-500/dataset/35_nor_drvlic.zip\",\n",
    "    \"ftp://smartengines.com/midv-500/dataset/36_pol_drvlic.zip\",\n",
    "    \"ftp://smartengines.com/midv-500/dataset/37_prt_id.zip\",\n",
    "    \"ftp://smartengines.com/midv-500/dataset/38_rou_drvlic.zip\",\n",
    "    \"ftp://smartengines.com/midv-500/dataset/39_rus_internalpassport.zip\",\n",
    "    \"ftp://smartengines.com/midv-500/dataset/40_srb_id.zip\",\n",
    "    \"ftp://smartengines.com/midv-500/dataset/41_srb_passport.zip\",\n",
    "    \"ftp://smartengines.com/midv-500/dataset/42_svk_id.zip\",\n",
    "    \"ftp://smartengines.com/midv-500/dataset/43_tur_id.zip\",\n",
    "    \"ftp://smartengines.com/midv-500/dataset/44_ukr_id.zip\",\n",
    "    \"ftp://smartengines.com/midv-500/dataset/45_ukr_passport.zip\",\n",
    "    \"ftp://smartengines.com/midv-500/dataset/46_ury_passport.zip\",\n",
    "    \"ftp://smartengines.com/midv-500/dataset/47_usa_bordercrossing.zip\",\n",
    "    \"ftp://smartengines.com/midv-500/dataset/48_usa_passportcard.zip\",\n",
    "    \"ftp://smartengines.com/midv-500/dataset/49_usa_ssn82.zip\",\n",
    "    \"ftp://smartengines.com/midv-500/dataset/50_xpo_id.zip\",\n",
    "]\n"
   ]
  },
  {
   "cell_type": "code",
   "execution_count": null,
   "metadata": {},
   "outputs": [],
   "source": [
    "def download_dataset(download_dir: str, dataset_name: str = \"midv500\"):\n",
    "    \"\"\"\n",
    "    This script downloads the MIDV-500 dataset with extra files and unzips the folders.\n",
    "    dataset_name: str\n",
    "        \"midv500\": https://doi.org/10.18287/2412-6179-2019-43-5-818-824\n",
    "\n",
    "    \"\"\"\n"
   ]
  },
  {
   "cell_type": "code",
   "execution_count": null,
   "metadata": {},
   "outputs": [],
   "source": [
    "def download_and_extract_datasets(download_dir: str, dataset_links: list):\n",
    "    \"\"\"\n",
    "    Downloads and extracts datasets from provided links into the specified directory.\n",
    "    \"\"\"\n",
    "    for link in dataset_links:\n",
    "        print(f\"Downloading and extracting: {link}\")\n",
    "        filename = os.path.basename(link)\n",
    "        save_path = os.path.join(download_dir, filename)\n",
    "\n",
    "        # Create directory if it doesn't exist\n",
    "        os.makedirs(download_dir, exist_ok=True)\n",
    "\n",
    "        # Download the dataset zip file\n",
    "        download(link, download_dir)\n",
    "        \n",
    "        # Unzip the downloaded file\n",
    "        unzip(save_path, download_dir)\n",
    "        \n",
    "        # Remove the zip file after extraction\n",
    "        os.remove(save_path)\n",
    "        print(f\"Completed: {filename}\\n\")"
   ]
  },
  {
   "cell_type": "code",
   "execution_count": null,
   "metadata": {},
   "outputs": [],
   "source": [
    "if __name__ == \"__main__\":\n",
    "    parser = argparse.ArgumentParser(description=\"Download and Extract MIDV-500 Dataset\")\n",
    "\n",
    "    parser.add_argument(\"-d\", \"--download_dir\", type=str, default=\"C:\\Users\\salon\\OneDrive\\Desktop\\Projects_colab\\identity_document_verification\\Midv_500_document_verification\\dataset\",\n",
    "                        help=\"Directory to download and extract the datasets.\")\n",
    "\n",
    "    args = parser.parse_args()\n",
    "\n",
    "        # Directly use midv500_links since only MIDV-500 data is needed\n",
    "    download_and_extract_datasets(args.download_dir, midv500_links)"
   ]
  }
 ],
 "metadata": {
  "language_info": {
   "name": "python"
  }
 },
 "nbformat": 4,
 "nbformat_minor": 2
}
